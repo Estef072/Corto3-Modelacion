{
 "cells": [
  {
   "cell_type": "markdown",
   "id": "a4210bfe",
   "metadata": {},
   "source": [
    "# 1. Configuración Inicial"
   ]
  },
  {
   "cell_type": "code",
   "execution_count": 1,
   "id": "6d01fbd3",
   "metadata": {},
   "outputs": [
    {
     "data": {
      "text/plain": [
       "('to be or not to be', 1000, 1)"
      ]
     },
     "execution_count": 1,
     "metadata": {},
     "output_type": "execute_result"
    }
   ],
   "source": [
    "# Frase objetivo\n",
    "target_phrase = \"to be or not to be\"\n",
    "# Tamaño máximo de la población\n",
    "max_population = 1000\n",
    "# Tasa de mutación (en porcentaje)\n",
    "mutation_rate = 1  # Empezaremos con 1%, pero este valor puede ser modificado más adelante\n",
    "\n",
    "target_phrase, max_population, mutation_rate\n"
   ]
  },
  {
   "cell_type": "markdown",
   "id": "aec36d9d",
   "metadata": {},
   "source": [
    "# 2. Inicialización de la Población"
   ]
  },
  {
   "cell_type": "code",
   "execution_count": 2,
   "id": "9b4aca08",
   "metadata": {},
   "outputs": [
    {
     "data": {
      "text/plain": [
       "['fstdwwrmgochddw dn',\n",
       " 'cznggrqqrwzmljhrnc',\n",
       " 'zrlxxosquyoetguotw',\n",
       " 'ctq ihypxjmbobbzfr',\n",
       " 'gvjwbjbtgsqiuhdnog']"
      ]
     },
     "execution_count": 2,
     "metadata": {},
     "output_type": "execute_result"
    }
   ],
   "source": [
    "import random\n",
    "import string\n",
    "\n",
    "def generate_random_sequence(length: int) -> str:\n",
    "    \"\"\"Genera una secuencia aleatoria de caracteres de la longitud dada.\"\"\"\n",
    "    return ''.join(random.choice(string.ascii_lowercase + ' ') for _ in range(length))\n",
    "\n",
    "def initialize_population(target_phrase: str, max_population: int) -> list:\n",
    "    \"\"\"Inicializa una población de secuencias aleatorias.\"\"\"\n",
    "    return [generate_random_sequence(len(target_phrase)) for _ in range(max_population)]\n",
    "\n",
    "# Inicializar la población\n",
    "population = initialize_population(target_phrase, max_population)\n",
    "\n",
    "# Mostrar las primeras 5 secuencias de la población inicial\n",
    "population[:5]\n"
   ]
  },
  {
   "cell_type": "markdown",
   "id": "ed368c24",
   "metadata": {},
   "source": [
    "# 3. Ejecución del Algoritmo "
   ]
  },
  {
   "cell_type": "code",
   "execution_count": 3,
   "id": "e9570cb1",
   "metadata": {},
   "outputs": [],
   "source": [
    "def fitness(sequence: str, target: str) -> int:\n",
    "    \"\"\"Calcula la aptitud de una secuencia comparándola con la frase objetivo.\"\"\"\n",
    "    return sum(1 for c1, c2 in zip(sequence, target) if c1 == c2)\n",
    "\n",
    "def selection(population: list, target: str) -> list:\n",
    "    \"\"\"Selecciona individuos de la población basados en su aptitud.\"\"\"\n",
    "    # Calcular la aptitud de cada individuo\n",
    "    scored_population = [(individual, fitness(individual, target)) for individual in population]\n",
    "    \n",
    "    # Ordenar la población basada en aptitud\n",
    "    scored_population.sort(key=lambda x: x[1], reverse=True)\n",
    "    \n",
    "    # Seleccionar la mitad superior de individuos\n",
    "    selected_population = [individual for individual, _ in scored_population[:len(scored_population)//2]]\n",
    "    \n",
    "    return selected_population\n",
    "\n",
    "# Probar la función de selección\n",
    "selected_population = selection(population, target_phrase)\n",
    "\n",
    "# Mostrar las primeras 5 secuencias seleccionadas\n",
    "selected_population[:5]\n",
    "\n",
    "def crossover(parent1: str, parent2: str) -> str:\n",
    "    \"\"\"Realiza un cruce entre dos secuencias para generar un hijo.\"\"\"\n",
    "    # Punto de corte aleatorio\n",
    "    cut = random.randint(0, len(parent1) - 1)\n",
    "    # Crear al hijo combinando las partes de los padres basadas en el punto de corte\n",
    "    child = parent1[:cut] + parent2[cut:]\n",
    "    return child\n",
    "\n",
    "def reproduction(selected_population: list) -> list:\n",
    "    \"\"\"Genera una nueva población cruzando individuos seleccionados.\"\"\"\n",
    "    new_population = []\n",
    "    for _ in range(max_population):\n",
    "        parent1 = random.choice(selected_population)\n",
    "        parent2 = random.choice(selected_population)\n",
    "        child = crossover(parent1, parent2)\n",
    "        new_population.append(child)\n",
    "    return new_population\n"
   ]
  },
  {
   "cell_type": "code",
   "execution_count": 4,
   "id": "9a1a8680",
   "metadata": {},
   "outputs": [
    {
     "data": {
      "text/plain": [
       "['icsoedkjbohynvjexw',\n",
       " 'cwlui fpwiafjszrqu',\n",
       " 'uoqvnufnuoagpj ufl',\n",
       " ' mkli jkahni siqpb',\n",
       " 'zokenpd aanpotcfmp']"
      ]
     },
     "execution_count": 4,
     "metadata": {},
     "output_type": "execute_result"
    }
   ],
   "source": [
    "# Probar la función de reproducción\n",
    "new_population = reproduction(selected_population)\n",
    "\n",
    "# Mostrar las primeras 5 secuencias de la nueva población\n",
    "new_population[:5]\n"
   ]
  },
  {
   "cell_type": "code",
   "execution_count": 5,
   "id": "9e02ee9d",
   "metadata": {},
   "outputs": [
    {
     "data": {
      "text/plain": [
       "('to be or not to be', 19)"
      ]
     },
     "execution_count": 5,
     "metadata": {},
     "output_type": "execute_result"
    }
   ],
   "source": [
    "def mutate(sequence: str, mutation_rate: int) -> str:\n",
    "    \"\"\"Aplica mutaciones aleatorias a una secuencia basadas en la tasa de mutación.\"\"\"\n",
    "    mutated_sequence = ''\n",
    "    for char in sequence:\n",
    "        if random.randint(1, 100) <= mutation_rate:\n",
    "            mutated_sequence += generate_random_sequence(1)\n",
    "        else:\n",
    "            mutated_sequence += char\n",
    "    return mutated_sequence\n",
    "\n",
    "def apply_mutation(population: list, mutation_rate: int) -> list:\n",
    "    \"\"\"Aplica mutaciones a la población.\"\"\"\n",
    "    return [mutate(sequence, mutation_rate) for sequence in population]\n",
    "\n",
    "# Probar la función de mutación\n",
    "mutated_population = apply_mutation(new_population, mutation_rate)\n",
    "\n",
    "# Mostrar las primeras 5 secuencias mutadas\n",
    "mutated_population[:5]\n",
    "\n",
    "\n",
    "def genetic_algorithm(target_phrase: str, max_population: int, mutation_rate: int, max_generations=1000) -> tuple:\n",
    "    \"\"\"Implementa el algoritmo genético para evolucionar hacia la frase objetivo.\"\"\"\n",
    "    # Inicializar población\n",
    "    population = initialize_population(target_phrase, max_population)\n",
    "    generations = 0\n",
    "    best_sequence = \"\"\n",
    "    best_fitness = 0\n",
    "    \n",
    "    # Registro del progreso\n",
    "    progress = []\n",
    "\n",
    "    for _ in range(max_generations):\n",
    "        # Selección\n",
    "        selected_population = selection(population, target_phrase)\n",
    "        # Reproducción\n",
    "        new_population = reproduction(selected_population)\n",
    "        # Mutación\n",
    "        mutated_population = apply_mutation(new_population, mutation_rate)\n",
    "        # Sustitución\n",
    "        population = mutated_population\n",
    "        \n",
    "        # Encontrar la secuencia con la mejor aptitud en la población actual\n",
    "        current_best_sequence = max(population, key=lambda x: fitness(x, target_phrase))\n",
    "        current_best_fitness = fitness(current_best_sequence, target_phrase)\n",
    "        \n",
    "        # Registrar el progreso\n",
    "        progress.append(current_best_sequence)\n",
    "        \n",
    "        if current_best_fitness > best_fitness:\n",
    "            best_sequence = current_best_sequence\n",
    "            best_fitness = current_best_fitness\n",
    "\n",
    "        # Verificar si hemos alcanzado la frase objetivo\n",
    "        if best_sequence == target_phrase:\n",
    "            generations = _ + 1\n",
    "            break\n",
    "        generations = _ + 1\n",
    "\n",
    "    return best_sequence, generations, progress\n",
    "\n",
    "# Ejecutar el algoritmo genético\n",
    "best_sequence, generations, progress = genetic_algorithm(target_phrase, max_population, mutation_rate)\n",
    "\n",
    "best_sequence, generations"
   ]
  },
  {
   "cell_type": "code",
   "execution_count": 6,
   "id": "92f2521f",
   "metadata": {},
   "outputs": [
    {
     "data": {
      "image/png": "[encoded data removed]",
      "text/plain": [
       "<Figure size 1200x600 with 1 Axes>"
      ]
     },
     "metadata": {},
     "output_type": "display_data"
    }
   ],
   "source": [
    "\n",
    "import matplotlib.pyplot as plt\n",
    "\n",
    "def visualize_progress(progress: list, target_phrase: str):\n",
    "    \"\"\"Visualiza el progreso del algoritmo genético en cada generación.\"\"\"\n",
    "    fitness_scores = [fitness(sequence, target_phrase) for sequence in progress]\n",
    "    \n",
    "    plt.figure(figsize=(12, 6))\n",
    "    plt.plot(fitness_scores, label='Fitness de la mejor secuencia')\n",
    "    plt.xlabel('Generación')\n",
    "    plt.ylabel('Aptitud')\n",
    "    plt.title('Progreso del Algoritmo Genético')\n",
    "    plt.axhline(y=len(target_phrase), color='r', linestyle='--', label='Aptitud Máxima')\n",
    "    plt.legend()\n",
    "    plt.grid(True)\n",
    "    plt.show()\n",
    "\n",
    "# Visualizar el progreso\n",
    "visualize_progress(progress, target_phrase)\n"
   ]
  },
  {
   "cell_type": "code",
   "execution_count": null,
   "id": "d5f4124a",
   "metadata": {},
   "outputs": [],
   "source": []
  }
 ],
 "metadata": {
  "kernelspec": {
   "display_name": "Python 3 (ipykernel)",
   "language": "python",
   "name": "python3"
  },
  "language_info": {
   "codemirror_mode": {
    "name": "ipython",
    "version": 3
   },
   "file_extension": ".py",
   "mimetype": "text/x-python",
   "name": "python",
   "nbconvert_exporter": "python",
   "pygments_lexer": "ipython3",
   "version": "3.11.1"
  }
 },
 "nbformat": 4,
 "nbformat_minor": 5
}
